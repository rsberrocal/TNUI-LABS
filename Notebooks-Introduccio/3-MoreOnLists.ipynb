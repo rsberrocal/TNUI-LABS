{
 "cells": [
  {
   "cell_type": "markdown",
   "metadata": {},
   "source": [
    "# Operacions sobre llistes"
   ]
  },
  {
   "cell_type": "markdown",
   "metadata": {},
   "source": [
    "## Simples (reducció)"
   ]
  },
  {
   "cell_type": "code",
   "execution_count": null,
   "metadata": {},
   "outputs": [],
   "source": [
    "llista = [1, 2, 3, 4, 5, 6, 7, 8]\n",
    "\n",
    "# Les clàssiques\n",
    "print(min(llista))\n",
    "print(max(llista))\n",
    "print(sum(llista))"
   ]
  },
  {
   "cell_type": "markdown",
   "metadata": {},
   "source": [
    "## Condicions\n",
    "\n",
    "Hi ha diverses formes de comprovar si els elements d'una llista compleixen una condició. Suposem que volem comprovar si algun element d'una llista compleix una condició"
   ]
  },
  {
   "cell_type": "code",
   "execution_count": null,
   "metadata": {
    "tags": []
   },
   "outputs": [],
   "source": [
    "llista = [1, 123, 23, 76, 231]\n",
    "\n",
    "def condicio(element):\n",
    "    return element**3 % 2 == 0"
   ]
  },
  {
   "cell_type": "markdown",
   "metadata": {},
   "source": [
    "Com es podria fer, però **no** és la forma més bonica"
   ]
  },
  {
   "cell_type": "code",
   "execution_count": null,
   "metadata": {},
   "outputs": [],
   "source": [
    "compleix = False\n",
    "\n",
    "for x in llista:\n",
    "    if condicio(x):\n",
    "        compleix = True\n",
    "        break\n",
    "        \n",
    "compleix"
   ]
  },
  {
   "cell_type": "markdown",
   "metadata": {},
   "source": [
    "El mateix, però curt i bonic"
   ]
  },
  {
   "cell_type": "code",
   "execution_count": null,
   "metadata": {},
   "outputs": [],
   "source": [
    "any(condicio(x) for x in llista)"
   ]
  },
  {
   "cell_type": "markdown",
   "metadata": {},
   "source": [
    "**Atenció!** No és el mateix l'anterior línia que"
   ]
  },
  {
   "cell_type": "code",
   "execution_count": null,
   "metadata": {},
   "outputs": [],
   "source": [
    "any([condicio(x) for x in llista])"
   ]
  },
  {
   "cell_type": "markdown",
   "metadata": {},
   "source": [
    "<span style=\"color: red; font-weight: bold;\">Per què?</span>"
   ]
  },
  {
   "cell_type": "markdown",
   "metadata": {},
   "source": [
    "També es pot comprovar si tots els elements compleixen la condició, enlloc de qualsevol d'ells"
   ]
  },
  {
   "cell_type": "code",
   "execution_count": null,
   "metadata": {},
   "outputs": [],
   "source": [
    "all(condicio(x) for x in llista)"
   ]
  },
  {
   "cell_type": "markdown",
   "metadata": {},
   "source": [
    "## Filtratge"
   ]
  },
  {
   "cell_type": "markdown",
   "metadata": {},
   "source": [
    "Com **no** filtrar una llista"
   ]
  },
  {
   "cell_type": "code",
   "execution_count": null,
   "metadata": {},
   "outputs": [],
   "source": [
    "def filtrar_element(element):\n",
    "    return element > 4\n",
    "\n",
    "llista_filtrada = [x for x in llista if filtrar_element(x)]\n",
    "print(llista_filtrada)"
   ]
  },
  {
   "cell_type": "markdown",
   "metadata": {},
   "source": [
    "Com **sí**"
   ]
  },
  {
   "cell_type": "code",
   "execution_count": null,
   "metadata": {},
   "outputs": [],
   "source": [
    "generador_filtrat = filter(filtrar_element, llista)\n",
    "print(list(generador_filtrat))"
   ]
  },
  {
   "cell_type": "markdown",
   "metadata": {},
   "source": [
    "**Millor encara**"
   ]
  },
  {
   "cell_type": "code",
   "execution_count": null,
   "metadata": {},
   "outputs": [],
   "source": [
    "generador_filtrat = filter(lambda x: x > 4, llista)\n",
    "print(list(generador_filtrat))"
   ]
  },
  {
   "cell_type": "markdown",
   "metadata": {},
   "source": [
    "## Manipulació"
   ]
  },
  {
   "cell_type": "code",
   "execution_count": null,
   "metadata": {},
   "outputs": [],
   "source": [
    "def elevar_element(element):\n",
    "    return element**2\n",
    "\n",
    "llista_manipulada = [elevar_element(x) for x in llista]\n",
    "print(llista_manipulada)"
   ]
  },
  {
   "cell_type": "code",
   "execution_count": null,
   "metadata": {},
   "outputs": [],
   "source": [
    "generador_manipulat = map(elevar_element, llista)\n",
    "print(list(generador_manipulat))"
   ]
  },
  {
   "cell_type": "code",
   "execution_count": null,
   "metadata": {},
   "outputs": [],
   "source": [
    "generador_manipulat = map(lambda x: x**2, llista)\n",
    "print(list(generador_manipulat))"
   ]
  },
  {
   "cell_type": "markdown",
   "metadata": {},
   "source": [
    "**Nota**: A vegades (en llibreries o altres llenguatges) aquesta operació no rep el nom de `map` sinó `apply`, però té la mateixa funcionalitat"
   ]
  },
  {
   "cell_type": "markdown",
   "metadata": {},
   "source": [
    "### Pregunta\n",
    "\n",
    "Com calcularies $x^2 + 1$ per tots els nombres entre 10 i 20? (10 i 20 inclossos)"
   ]
  },
  {
   "cell_type": "code",
   "execution_count": null,
   "metadata": {},
   "outputs": [],
   "source": [
    "p1 = range(10, 21)\n",
    "p1 = map(lambda x: x**2 + 1, p1)\n",
    "p1 = list(p1)\n",
    "p1"
   ]
  },
  {
   "cell_type": "markdown",
   "metadata": {},
   "source": [
    "Donades les següents llistes, com faries la suma element a element de les dues?\n",
    "\n",
    "Matemàticament, $(1, 2, 3) + (2, 3, 4) = (3, 5, 7)$\n",
    "\n",
    "És a dir, en Python voldríem fer: [1, 2, 3] + [2, 3, 4] = [3, 5, 7]"
   ]
  },
  {
   "cell_type": "code",
   "execution_count": null,
   "metadata": {},
   "outputs": [],
   "source": [
    "p2_a = [1, 2, 3]\n",
    "p2_b = [2, 3, 4]\n",
    "\n",
    "p3_c = p2_a + p2_b\n",
    "print(p3_c)"
   ]
  },
  {
   "cell_type": "code",
   "execution_count": null,
   "metadata": {},
   "outputs": [],
   "source": [
    "p3_c = [a + b for a, b in zip(p2_a, p2_b)]\n",
    "p3_c"
   ]
  },
  {
   "cell_type": "markdown",
   "metadata": {},
   "source": [
    "### Sobre zip"
   ]
  },
  {
   "cell_type": "code",
   "execution_count": null,
   "metadata": {},
   "outputs": [],
   "source": [
    "zipped = zip([1, 2, 3], [5, 6, 7])\n",
    "list(zipped)"
   ]
  },
  {
   "cell_type": "code",
   "execution_count": null,
   "metadata": {},
   "outputs": [],
   "source": [
    "zipped = zip([1, 2, 3], [5, 6, 7], [10, 11, 12])\n",
    "list(zipped)"
   ]
  },
  {
   "cell_type": "code",
   "execution_count": null,
   "metadata": {},
   "outputs": [],
   "source": [
    "zipped = zip([1, 2], [5, 6, 7, 8, 9])\n",
    "list(zipped)"
   ]
  },
  {
   "cell_type": "code",
   "execution_count": null,
   "metadata": {},
   "outputs": [],
   "source": [
    "zipped = zip([1, 2, 3], [5, 6, 7, 8, 9], [10, 11, 12])\n",
    "list(zipped)"
   ]
  },
  {
   "cell_type": "markdown",
   "metadata": {},
   "source": [
    "### Sobre iterar llistes de llistes"
   ]
  },
  {
   "cell_type": "code",
   "execution_count": null,
   "metadata": {},
   "outputs": [],
   "source": [
    "llista = [\n",
    "    [1, 2],\n",
    "    [3, 4],\n",
    "    [5, 6]\n",
    "]\n",
    "\n",
    "for a, b in llista:\n",
    "    print(\"{} i {}\".format(a, b))"
   ]
  },
  {
   "cell_type": "code",
   "execution_count": null,
   "metadata": {},
   "outputs": [],
   "source": [
    "llista = [\n",
    "    (1, 2, 3),\n",
    "    (10, 11, 12),\n",
    "    (20, 21, 22)\n",
    "]\n",
    "\n",
    "for a, b, c in llista:\n",
    "    print(\"{} i {} i {}\".format(a, b, c))"
   ]
  },
  {
   "cell_type": "markdown",
   "metadata": {},
   "source": [
    "Per aquest mateix motiu, podem iterar diccionaris de forma còmoda:"
   ]
  },
  {
   "cell_type": "code",
   "execution_count": null,
   "metadata": {},
   "outputs": [],
   "source": [
    "dic = {1: 'a', 2: True, 'clau3': 99}\n",
    "\n",
    "for clau, valor in dic.items():\n",
    "    print('{} conté {}'.format(clau, valor))"
   ]
  },
  {
   "cell_type": "code",
   "execution_count": null,
   "metadata": {},
   "outputs": [],
   "source": [
    "dic.items()"
   ]
  },
  {
   "cell_type": "markdown",
   "metadata": {},
   "source": [
    "## Sobre arguments de funcions\n",
    "\n",
    "#### \\*args, \\*kwargs o com definir una funció amb un nombre d'arguments arbitrari."
   ]
  },
  {
   "cell_type": "code",
   "execution_count": null,
   "metadata": {},
   "outputs": [],
   "source": [
    "def magic(*args, **kwargs):\n",
    "    print(args)\n",
    "    print(kwargs)\n",
    "    \n",
    "magic(1,2,3, val1='a', val2='b')"
   ]
  },
  {
   "cell_type": "code",
   "execution_count": null,
   "metadata": {},
   "outputs": [],
   "source": [
    "def magic(*a, **b):\n",
    "    print(a)\n",
    "    print(b)\n",
    "    \n",
    "magic(1,2,3, val1='a', val2='b')"
   ]
  },
  {
   "cell_type": "markdown",
   "metadata": {},
   "source": [
    "\\*args and \\**kwargs ens permeten passar un nombre variable de paràmetres a una funció."
   ]
  },
  {
   "cell_type": "code",
   "execution_count": null,
   "metadata": {},
   "outputs": [],
   "source": [
    "def suma(*args):\n",
    "    s = 0\n",
    "    for i in args:\n",
    "        s += i\n",
    "    print(\"La suma és\", s)\n",
    "    \n",
    "\n",
    "a = (1,2,3,4)\n",
    "\n",
    "print(suma(*a))"
   ]
  },
  {
   "cell_type": "code",
   "execution_count": null,
   "metadata": {},
   "outputs": [],
   "source": [
    "def my_func(**kwargs):\n",
    "    for i, j in kwargs.items():\n",
    "        print(i, j)\n",
    "        \n",
    "my_func(name='tim', sport='football', roll=19)"
   ]
  },
  {
   "cell_type": "code",
   "execution_count": null,
   "metadata": {},
   "outputs": [],
   "source": []
  }
 ],
 "metadata": {
  "kernelspec": {
   "display_name": "Python 3",
   "language": "python",
   "name": "python3"
  },
  "language_info": {
   "codemirror_mode": {
    "name": "ipython",
    "version": 3
   },
   "file_extension": ".py",
   "mimetype": "text/x-python",
   "name": "python",
   "nbconvert_exporter": "python",
   "pygments_lexer": "ipython3",
   "version": "3.8.8"
  }
 },
 "nbformat": 4,
 "nbformat_minor": 4
}
