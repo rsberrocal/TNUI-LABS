{
 "cells": [
  {
   "cell_type": "markdown",
   "metadata": {},
   "source": [
    "# Introducció"
   ]
  },
  {
   "cell_type": "markdown",
   "metadata": {},
   "source": [
    "L\\'**Objectiu** d\\'aquesta pràctica introductòria (P0) és revisar els vostres coneixements de Python, i tenir un primer contacte amb dues llibreries d'ús comú en data science: Numpy i Pandas. La Pràctica està organitzada en dos blocks diferents (descrits a continuació), cadascun dels quals s'organitza al voltant d'un python notebook. Tot i que la pràctica no s'avalua, cal que examineu en detall i que us familiaritzeu amb cadascun dels aspectes que descriu, i que seran d'ús corrent (i avaluable) a les pràctiques successives.\"\n",
    "\n",
    "\n",
    "### Programació\n",
    "\n",
    "<div style=\"padding-top: 7px; text-align: center; margin: 25px;\">\n",
    "    <img style=\"display: inline-block;\" src=\"sources/python.png\" width=\"200px\" />\n",
    "</div>\n",
    "\n",
    "Notebooks:\n",
    "\n",
    "&nbsp;&nbsp;&nbsp;&nbsp;**1. Repàs de classes i list comprehensions**\n",
    "\n",
    "&nbsp;&nbsp;&nbsp;&nbsp;**2. Generadors (que són) vs llistes**\n",
    "\n",
    "&nbsp;&nbsp;&nbsp;&nbsp;**3. Usos avançats de llistes**\n",
    "\n",
    "<br />\n",
    "\n",
    "### Llibreries\n",
    "\n",
    "<div style=\"padding-top: 7px; text-align: center; margin: 25px;\">\n",
    "    <img style=\"display: inline-block; margin-top: 33px;\" src=\"sources/numpy.jpeg\" width=\"200px\" />\n",
    "    &nbsp;&nbsp;&nbsp;&nbsp;\n",
    "    <img style=\"display: inline-block;\" src=\"sources/pandas.jpg\" width=\"200px\" />\n",
    "</div>\n",
    "\n",
    "Notebooks:\n",
    "\n",
    "&nbsp;&nbsp;&nbsp;&nbsp;**4. Introducció a Numpy**\n",
    "\n",
    "&nbsp;&nbsp;&nbsp;&nbsp;**5. Introducció a Pandas**"
   ]
  }
 ],
 "metadata": {
  "kernelspec": {
   "display_name": "Python 3",
   "language": "python",
   "name": "python3"
  },
  "language_info": {
   "codemirror_mode": {
    "name": "ipython",
    "version": 3
   },
   "file_extension": ".py",
   "mimetype": "text/x-python",
   "name": "python",
   "nbconvert_exporter": "python",
   "pygments_lexer": "ipython3",
   "version": "3.7.4"
  }
 },
 "nbformat": 4,
 "nbformat_minor": 2
}
