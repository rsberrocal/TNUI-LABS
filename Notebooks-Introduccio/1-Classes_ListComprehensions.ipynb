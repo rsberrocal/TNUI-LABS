{
 "cells": [
  {
   "cell_type": "markdown",
   "metadata": {},
   "source": [
    "# Repàs de classes i list comprehensions\n",
    "\n",
    "Mira el codi següent i llegeix l'explicació primer."
   ]
  },
  {
   "cell_type": "markdown",
   "metadata": {},
   "source": [
    "```python\n",
    "class ListComprehensions(object):\n",
    "    def __init__(self, maxim):\n",
    "        self.maxim = maxim\n",
    "        pass\n",
    "    \n",
    "    def calcular_potencies(self, e):\n",
    "        return []\n",
    "    \n",
    "    def calcular_potencies_amb_clau(self, e):\n",
    "        return {}\n",
    "    \n",
    "    def calcular_potencies_pars(self, e):\n",
    "        return []\n",
    "```"
   ]
  },
  {
   "cell_type": "markdown",
   "metadata": {},
   "source": [
    "## Breu repàs\n",
    "\n",
    "### Declaració\n",
    "\n",
    "En python una classe es defineix a través de la sintaxis\n",
    "```\n",
    "    class NomDeLaClasse(<herències>)\n",
    "```\n",
    "\n",
    "En el codi de dalt, `object` és l'objecte més bàsic definible, i per tant l'herència més trivial possible.\n",
    "\n",
    "Els mètodes de la classe es defineixen com a qualsevol funció de python, però indentada dins de la classe i amb un primer paràmetre especial `self`, que fa referència al propi objecte (com `this` en C++ o Java). Dins d'aquests mètodes s'inclou el constructor, que es defineix com a\n",
    "```\n",
    "    def __init__(self, <parametre_1>, ..., <parametre_n>)\n",
    "```\n",
    "\n",
    "Els atributs de la classe es creen i inicialitzen (per convenció) dins d'aquest constructor.\n",
    "\n",
    "### Instanciació i ús\n",
    "\n",
    "Per instanciar un objecte de la classe, és suficient declarar una variable i inicialitzar-la amb una crida al constructor de la classe:\n",
    "```python\n",
    "    obj = ListComprehensions(10)\n",
    "``` \n",
    "\n",
    "Per fer-ne servir un mètode, la sintaxi és `obj.<metode>(<parametres>)`, ignorant el paràmetre `self` que Python ja dedueix per nosaltres\n",
    "```python\n",
    "    obj.calcular_potencies(3)\n",
    "```\n",
    "\n",
    "I de la mateixa manera, podem accedir als atributs:\n",
    "```python\n",
    "    obj.maxim\n",
    "```"
   ]
  },
  {
   "cell_type": "markdown",
   "metadata": {},
   "source": [
    "## Exemple\n",
    "\n",
    "Completa els mètodes de la següent classe tal com indica la documentació que l'acompanya"
   ]
  },
  {
   "cell_type": "code",
   "execution_count": null,
   "metadata": {},
   "outputs": [],
   "source": [
    "class ListComprehensions(object):\n",
    "    def __init__(self, maxim):\n",
    "        \"\"\"\n",
    "        Crea un objecte i inicialitza els atributs necessaris\n",
    "\n",
    "        :param self: Referència a l'objecte\n",
    "        :param maxim: En els mètodes, indica fins a quin número iterar\n",
    "            com a màxim\n",
    "        \"\"\"\n",
    "        self.maxim = maxim\n",
    "        pass\n",
    "    \n",
    "    def calcular_potencies(self, e):\n",
    "        \"\"\"\n",
    "        Calcula totes les potències dels nombres entre 1 i `màxim`, inclosos, elevats\n",
    "        al paràmetre e (1^e, 2^e, 3^e, ..., maxim^e)\n",
    "        \n",
    "        :param self: Referència a l'objecte\n",
    "        :param e: Exponent a fer servir per a cada potència\n",
    "        :return: Una list comprehension (de tipus <list>) amb totes les potències\n",
    "        \"\"\"\n",
    "        return [i**e for i in range(1, self.maxim + 1)]\n",
    "    \n",
    "    def calcular_potencies_amb_clau(self, e):\n",
    "        \"\"\"\n",
    "        Calcula totes les potències dels nombres entre 1 i `màxim`, inclosos, elevats\n",
    "        al paràmetre e, i ho retorna com a diccionari {1: 1^e, 2: 2^e, 3: 3^e, ..., màxim: màxim^e}\n",
    "        \n",
    "        :param self: Referència a l'objecte\n",
    "        :param e: Exponent a fer servir per a cada potència\n",
    "        :return: Un dict comprehension (de tipus <dict>) amb totes les potències, on la\n",
    "            clau és el nombre i el valor la potència\n",
    "        \"\"\"\n",
    "        return {i: i**e for i in range(1, self.maxim + 1)}\n",
    "    \n",
    "    def calcular_potencies_pars(self, e):\n",
    "        \"\"\"\n",
    "        Calcula totes les potències dels nombres entre 1 i `maxim`, inclosos, elevats\n",
    "        al paràmetre e (1^e, 2^e, 3^e, ..., maxim^e) si i solament si la potència\n",
    "        és parella\n",
    "        \n",
    "        :param self: Referència a l'objecte\n",
    "        :param e: Exponent a fer servir per cada potència\n",
    "        :return: Una list comprehension (de tipus <list>) amb les potències demanades\n",
    "        \"\"\"\n",
    "        return [i**e for i in range(1, self.maxim + 1) if i**e % 2 == 0]"
   ]
  },
  {
   "cell_type": "markdown",
   "metadata": {},
   "source": [
    "## Proves\n",
    "\n",
    "Sempre dins de blocks `if __name__ == '__main__'`"
   ]
  },
  {
   "cell_type": "code",
   "execution_count": null,
   "metadata": {},
   "outputs": [],
   "source": [
    "if __name__ == '__main__':\n",
    "    objecte = ListComprehensions(10)\n",
    "    print(objecte.maxim)\n",
    "    print(objecte.calcular_potencies(2))\n",
    "    print(objecte.calcular_potencies_amb_clau(3))\n",
    "    print(objecte.calcular_potencies_pars(3))"
   ]
  },
  {
   "cell_type": "code",
   "execution_count": null,
   "metadata": {},
   "outputs": [],
   "source": []
  }
 ],
 "metadata": {
  "kernelspec": {
   "display_name": "Python 3",
   "language": "python",
   "name": "python3"
  },
  "language_info": {
   "codemirror_mode": {
    "name": "ipython",
    "version": 3
   },
   "file_extension": ".py",
   "mimetype": "text/x-python",
   "name": "python",
   "nbconvert_exporter": "python",
   "pygments_lexer": "ipython3",
   "version": "3.8.5"
  }
 },
 "nbformat": 4,
 "nbformat_minor": 4
}
